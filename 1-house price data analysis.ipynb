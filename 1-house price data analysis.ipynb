{
 "cells": [
  {
   "cell_type": "code",
   "execution_count": 2,
   "id": "f9257ac8",
   "metadata": {},
   "outputs": [],
   "source": [
    "import pandas as pd    # PANDAS is library for performing data analysis in python"
   ]
  },
  {
   "cell_type": "code",
   "execution_count": 3,
   "id": "0a6c1b1c",
   "metadata": {},
   "outputs": [],
   "source": [
    "hp_df=pd.read_csv('house_price.csv')   # here table is known as DATA FRAME"
   ]
  },
  {
   "cell_type": "code",
   "execution_count": 4,
   "id": "8b8ba64e",
   "metadata": {},
   "outputs": [
    {
     "data": {
      "text/html": [
       "<div>\n",
       "<style scoped>\n",
       "    .dataframe tbody tr th:only-of-type {\n",
       "        vertical-align: middle;\n",
       "    }\n",
       "\n",
       "    .dataframe tbody tr th {\n",
       "        vertical-align: top;\n",
       "    }\n",
       "\n",
       "    .dataframe thead th {\n",
       "        text-align: right;\n",
       "    }\n",
       "</style>\n",
       "<table border=\"1\" class=\"dataframe\">\n",
       "  <thead>\n",
       "    <tr style=\"text-align: right;\">\n",
       "      <th></th>\n",
       "      <th>Id</th>\n",
       "      <th>MSSubClass</th>\n",
       "      <th>MSZoning</th>\n",
       "      <th>LotFrontage</th>\n",
       "      <th>LotArea</th>\n",
       "      <th>Street</th>\n",
       "      <th>Alley</th>\n",
       "      <th>LotShape</th>\n",
       "      <th>LandContour</th>\n",
       "      <th>Utilities</th>\n",
       "      <th>...</th>\n",
       "      <th>PoolArea</th>\n",
       "      <th>PoolQC</th>\n",
       "      <th>Fence</th>\n",
       "      <th>MiscFeature</th>\n",
       "      <th>MiscVal</th>\n",
       "      <th>MoSold</th>\n",
       "      <th>YrSold</th>\n",
       "      <th>SaleType</th>\n",
       "      <th>SaleCondition</th>\n",
       "      <th>SalePrice</th>\n",
       "    </tr>\n",
       "  </thead>\n",
       "  <tbody>\n",
       "    <tr>\n",
       "      <th>0</th>\n",
       "      <td>1</td>\n",
       "      <td>60</td>\n",
       "      <td>RL</td>\n",
       "      <td>65.0</td>\n",
       "      <td>8450</td>\n",
       "      <td>Pave</td>\n",
       "      <td>NaN</td>\n",
       "      <td>Reg</td>\n",
       "      <td>Lvl</td>\n",
       "      <td>AllPub</td>\n",
       "      <td>...</td>\n",
       "      <td>0</td>\n",
       "      <td>NaN</td>\n",
       "      <td>NaN</td>\n",
       "      <td>NaN</td>\n",
       "      <td>0</td>\n",
       "      <td>2</td>\n",
       "      <td>2008</td>\n",
       "      <td>WD</td>\n",
       "      <td>Normal</td>\n",
       "      <td>208500</td>\n",
       "    </tr>\n",
       "    <tr>\n",
       "      <th>1</th>\n",
       "      <td>2</td>\n",
       "      <td>20</td>\n",
       "      <td>RL</td>\n",
       "      <td>80.0</td>\n",
       "      <td>9600</td>\n",
       "      <td>Pave</td>\n",
       "      <td>NaN</td>\n",
       "      <td>Reg</td>\n",
       "      <td>Lvl</td>\n",
       "      <td>AllPub</td>\n",
       "      <td>...</td>\n",
       "      <td>0</td>\n",
       "      <td>NaN</td>\n",
       "      <td>NaN</td>\n",
       "      <td>NaN</td>\n",
       "      <td>0</td>\n",
       "      <td>5</td>\n",
       "      <td>2007</td>\n",
       "      <td>WD</td>\n",
       "      <td>Normal</td>\n",
       "      <td>181500</td>\n",
       "    </tr>\n",
       "    <tr>\n",
       "      <th>2</th>\n",
       "      <td>3</td>\n",
       "      <td>60</td>\n",
       "      <td>RL</td>\n",
       "      <td>68.0</td>\n",
       "      <td>11250</td>\n",
       "      <td>Pave</td>\n",
       "      <td>NaN</td>\n",
       "      <td>IR1</td>\n",
       "      <td>Lvl</td>\n",
       "      <td>AllPub</td>\n",
       "      <td>...</td>\n",
       "      <td>0</td>\n",
       "      <td>NaN</td>\n",
       "      <td>NaN</td>\n",
       "      <td>NaN</td>\n",
       "      <td>0</td>\n",
       "      <td>9</td>\n",
       "      <td>2008</td>\n",
       "      <td>WD</td>\n",
       "      <td>Normal</td>\n",
       "      <td>223500</td>\n",
       "    </tr>\n",
       "    <tr>\n",
       "      <th>3</th>\n",
       "      <td>4</td>\n",
       "      <td>70</td>\n",
       "      <td>RL</td>\n",
       "      <td>60.0</td>\n",
       "      <td>9550</td>\n",
       "      <td>Pave</td>\n",
       "      <td>NaN</td>\n",
       "      <td>IR1</td>\n",
       "      <td>Lvl</td>\n",
       "      <td>AllPub</td>\n",
       "      <td>...</td>\n",
       "      <td>0</td>\n",
       "      <td>NaN</td>\n",
       "      <td>NaN</td>\n",
       "      <td>NaN</td>\n",
       "      <td>0</td>\n",
       "      <td>2</td>\n",
       "      <td>2006</td>\n",
       "      <td>WD</td>\n",
       "      <td>Abnorml</td>\n",
       "      <td>140000</td>\n",
       "    </tr>\n",
       "    <tr>\n",
       "      <th>4</th>\n",
       "      <td>5</td>\n",
       "      <td>60</td>\n",
       "      <td>RL</td>\n",
       "      <td>84.0</td>\n",
       "      <td>14260</td>\n",
       "      <td>Pave</td>\n",
       "      <td>NaN</td>\n",
       "      <td>IR1</td>\n",
       "      <td>Lvl</td>\n",
       "      <td>AllPub</td>\n",
       "      <td>...</td>\n",
       "      <td>0</td>\n",
       "      <td>NaN</td>\n",
       "      <td>NaN</td>\n",
       "      <td>NaN</td>\n",
       "      <td>0</td>\n",
       "      <td>12</td>\n",
       "      <td>2008</td>\n",
       "      <td>WD</td>\n",
       "      <td>Normal</td>\n",
       "      <td>250000</td>\n",
       "    </tr>\n",
       "    <tr>\n",
       "      <th>...</th>\n",
       "      <td>...</td>\n",
       "      <td>...</td>\n",
       "      <td>...</td>\n",
       "      <td>...</td>\n",
       "      <td>...</td>\n",
       "      <td>...</td>\n",
       "      <td>...</td>\n",
       "      <td>...</td>\n",
       "      <td>...</td>\n",
       "      <td>...</td>\n",
       "      <td>...</td>\n",
       "      <td>...</td>\n",
       "      <td>...</td>\n",
       "      <td>...</td>\n",
       "      <td>...</td>\n",
       "      <td>...</td>\n",
       "      <td>...</td>\n",
       "      <td>...</td>\n",
       "      <td>...</td>\n",
       "      <td>...</td>\n",
       "      <td>...</td>\n",
       "    </tr>\n",
       "    <tr>\n",
       "      <th>1455</th>\n",
       "      <td>1456</td>\n",
       "      <td>60</td>\n",
       "      <td>RL</td>\n",
       "      <td>62.0</td>\n",
       "      <td>7917</td>\n",
       "      <td>Pave</td>\n",
       "      <td>NaN</td>\n",
       "      <td>Reg</td>\n",
       "      <td>Lvl</td>\n",
       "      <td>AllPub</td>\n",
       "      <td>...</td>\n",
       "      <td>0</td>\n",
       "      <td>NaN</td>\n",
       "      <td>NaN</td>\n",
       "      <td>NaN</td>\n",
       "      <td>0</td>\n",
       "      <td>8</td>\n",
       "      <td>2007</td>\n",
       "      <td>WD</td>\n",
       "      <td>Normal</td>\n",
       "      <td>175000</td>\n",
       "    </tr>\n",
       "    <tr>\n",
       "      <th>1456</th>\n",
       "      <td>1457</td>\n",
       "      <td>20</td>\n",
       "      <td>RL</td>\n",
       "      <td>85.0</td>\n",
       "      <td>13175</td>\n",
       "      <td>Pave</td>\n",
       "      <td>NaN</td>\n",
       "      <td>Reg</td>\n",
       "      <td>Lvl</td>\n",
       "      <td>AllPub</td>\n",
       "      <td>...</td>\n",
       "      <td>0</td>\n",
       "      <td>NaN</td>\n",
       "      <td>MnPrv</td>\n",
       "      <td>NaN</td>\n",
       "      <td>0</td>\n",
       "      <td>2</td>\n",
       "      <td>2010</td>\n",
       "      <td>WD</td>\n",
       "      <td>Normal</td>\n",
       "      <td>210000</td>\n",
       "    </tr>\n",
       "    <tr>\n",
       "      <th>1457</th>\n",
       "      <td>1458</td>\n",
       "      <td>70</td>\n",
       "      <td>RL</td>\n",
       "      <td>66.0</td>\n",
       "      <td>9042</td>\n",
       "      <td>Pave</td>\n",
       "      <td>NaN</td>\n",
       "      <td>Reg</td>\n",
       "      <td>Lvl</td>\n",
       "      <td>AllPub</td>\n",
       "      <td>...</td>\n",
       "      <td>0</td>\n",
       "      <td>NaN</td>\n",
       "      <td>GdPrv</td>\n",
       "      <td>Shed</td>\n",
       "      <td>2500</td>\n",
       "      <td>5</td>\n",
       "      <td>2010</td>\n",
       "      <td>WD</td>\n",
       "      <td>Normal</td>\n",
       "      <td>266500</td>\n",
       "    </tr>\n",
       "    <tr>\n",
       "      <th>1458</th>\n",
       "      <td>1459</td>\n",
       "      <td>20</td>\n",
       "      <td>RL</td>\n",
       "      <td>68.0</td>\n",
       "      <td>9717</td>\n",
       "      <td>Pave</td>\n",
       "      <td>NaN</td>\n",
       "      <td>Reg</td>\n",
       "      <td>Lvl</td>\n",
       "      <td>AllPub</td>\n",
       "      <td>...</td>\n",
       "      <td>0</td>\n",
       "      <td>NaN</td>\n",
       "      <td>NaN</td>\n",
       "      <td>NaN</td>\n",
       "      <td>0</td>\n",
       "      <td>4</td>\n",
       "      <td>2010</td>\n",
       "      <td>WD</td>\n",
       "      <td>Normal</td>\n",
       "      <td>142125</td>\n",
       "    </tr>\n",
       "    <tr>\n",
       "      <th>1459</th>\n",
       "      <td>1460</td>\n",
       "      <td>20</td>\n",
       "      <td>RL</td>\n",
       "      <td>75.0</td>\n",
       "      <td>9937</td>\n",
       "      <td>Pave</td>\n",
       "      <td>NaN</td>\n",
       "      <td>Reg</td>\n",
       "      <td>Lvl</td>\n",
       "      <td>AllPub</td>\n",
       "      <td>...</td>\n",
       "      <td>0</td>\n",
       "      <td>NaN</td>\n",
       "      <td>NaN</td>\n",
       "      <td>NaN</td>\n",
       "      <td>0</td>\n",
       "      <td>6</td>\n",
       "      <td>2008</td>\n",
       "      <td>WD</td>\n",
       "      <td>Normal</td>\n",
       "      <td>147500</td>\n",
       "    </tr>\n",
       "  </tbody>\n",
       "</table>\n",
       "<p>1460 rows × 81 columns</p>\n",
       "</div>"
      ],
      "text/plain": [
       "        Id  MSSubClass MSZoning  LotFrontage  LotArea Street Alley LotShape  \\\n",
       "0        1          60       RL         65.0     8450   Pave   NaN      Reg   \n",
       "1        2          20       RL         80.0     9600   Pave   NaN      Reg   \n",
       "2        3          60       RL         68.0    11250   Pave   NaN      IR1   \n",
       "3        4          70       RL         60.0     9550   Pave   NaN      IR1   \n",
       "4        5          60       RL         84.0    14260   Pave   NaN      IR1   \n",
       "...    ...         ...      ...          ...      ...    ...   ...      ...   \n",
       "1455  1456          60       RL         62.0     7917   Pave   NaN      Reg   \n",
       "1456  1457          20       RL         85.0    13175   Pave   NaN      Reg   \n",
       "1457  1458          70       RL         66.0     9042   Pave   NaN      Reg   \n",
       "1458  1459          20       RL         68.0     9717   Pave   NaN      Reg   \n",
       "1459  1460          20       RL         75.0     9937   Pave   NaN      Reg   \n",
       "\n",
       "     LandContour Utilities  ... PoolArea PoolQC  Fence MiscFeature MiscVal  \\\n",
       "0            Lvl    AllPub  ...        0    NaN    NaN         NaN       0   \n",
       "1            Lvl    AllPub  ...        0    NaN    NaN         NaN       0   \n",
       "2            Lvl    AllPub  ...        0    NaN    NaN         NaN       0   \n",
       "3            Lvl    AllPub  ...        0    NaN    NaN         NaN       0   \n",
       "4            Lvl    AllPub  ...        0    NaN    NaN         NaN       0   \n",
       "...          ...       ...  ...      ...    ...    ...         ...     ...   \n",
       "1455         Lvl    AllPub  ...        0    NaN    NaN         NaN       0   \n",
       "1456         Lvl    AllPub  ...        0    NaN  MnPrv         NaN       0   \n",
       "1457         Lvl    AllPub  ...        0    NaN  GdPrv        Shed    2500   \n",
       "1458         Lvl    AllPub  ...        0    NaN    NaN         NaN       0   \n",
       "1459         Lvl    AllPub  ...        0    NaN    NaN         NaN       0   \n",
       "\n",
       "     MoSold YrSold  SaleType  SaleCondition  SalePrice  \n",
       "0         2   2008        WD         Normal     208500  \n",
       "1         5   2007        WD         Normal     181500  \n",
       "2         9   2008        WD         Normal     223500  \n",
       "3         2   2006        WD        Abnorml     140000  \n",
       "4        12   2008        WD         Normal     250000  \n",
       "...     ...    ...       ...            ...        ...  \n",
       "1455      8   2007        WD         Normal     175000  \n",
       "1456      2   2010        WD         Normal     210000  \n",
       "1457      5   2010        WD         Normal     266500  \n",
       "1458      4   2010        WD         Normal     142125  \n",
       "1459      6   2008        WD         Normal     147500  \n",
       "\n",
       "[1460 rows x 81 columns]"
      ]
     },
     "execution_count": 4,
     "metadata": {},
     "output_type": "execute_result"
    }
   ],
   "source": [
    "hp_df"
   ]
  },
  {
   "cell_type": "code",
   "execution_count": 5,
   "id": "54eeea94",
   "metadata": {},
   "outputs": [
    {
     "data": {
      "text/plain": [
       "0       208500\n",
       "1       181500\n",
       "2       223500\n",
       "3       140000\n",
       "4       250000\n",
       "         ...  \n",
       "1455    175000\n",
       "1456    210000\n",
       "1457    266500\n",
       "1458    142125\n",
       "1459    147500\n",
       "Name: SalePrice, Length: 1460, dtype: int64"
      ]
     },
     "execution_count": 5,
     "metadata": {},
     "output_type": "execute_result"
    }
   ],
   "source": [
    "hp_df['SalePrice']   # to take a specific series(column)"
   ]
  },
  {
   "cell_type": "code",
   "execution_count": 6,
   "id": "ed04bbcb",
   "metadata": {},
   "outputs": [
    {
     "data": {
      "text/plain": [
       "dtype('int64')"
      ]
     },
     "execution_count": 6,
     "metadata": {},
     "output_type": "execute_result"
    }
   ],
   "source": [
    "hp_df['SalePrice'].dtype   # to find the data type of a particular column"
   ]
  },
  {
   "cell_type": "code",
   "execution_count": 7,
   "id": "06adfd18",
   "metadata": {},
   "outputs": [
    {
     "data": {
      "text/plain": [
       "Id                 int64\n",
       "MSSubClass         int64\n",
       "MSZoning          object\n",
       "LotFrontage      float64\n",
       "LotArea            int64\n",
       "                  ...   \n",
       "MoSold             int64\n",
       "YrSold             int64\n",
       "SaleType          object\n",
       "SaleCondition     object\n",
       "SalePrice          int64\n",
       "Length: 81, dtype: object"
      ]
     },
     "execution_count": 7,
     "metadata": {},
     "output_type": "execute_result"
    }
   ],
   "source": [
    "hp_df.dtypes              # to find the data type of all series(column)"
   ]
  },
  {
   "cell_type": "code",
   "execution_count": 8,
   "id": "7f0c6b4e",
   "metadata": {},
   "outputs": [
    {
     "data": {
      "text/plain": [
       "(1460, 81)"
      ]
     },
     "execution_count": 8,
     "metadata": {},
     "output_type": "execute_result"
    }
   ],
   "source": [
    "hp_df.shape   # no of rows and columns"
   ]
  },
  {
   "cell_type": "code",
   "execution_count": 9,
   "id": "2afdc0a7",
   "metadata": {},
   "outputs": [
    {
     "data": {
      "text/plain": [
       "dtype('O')"
      ]
     },
     "execution_count": 9,
     "metadata": {},
     "output_type": "execute_result"
    }
   ],
   "source": [
    "hp_df['LotShape'].dtype   # columns with 'O'(object) data type are categorical columns"
   ]
  },
  {
   "cell_type": "code",
   "execution_count": 10,
   "id": "beac55cf",
   "metadata": {},
   "outputs": [
    {
     "data": {
      "text/plain": [
       "Index(['Id', 'MSSubClass', 'MSZoning', 'LotFrontage', 'LotArea', 'Street',\n",
       "       'Alley', 'LotShape', 'LandContour', 'Utilities', 'LotConfig',\n",
       "       'LandSlope', 'Neighborhood', 'Condition1', 'Condition2', 'BldgType',\n",
       "       'HouseStyle', 'OverallQual', 'OverallCond', 'YearBuilt', 'YearRemodAdd',\n",
       "       'RoofStyle', 'RoofMatl', 'Exterior1st', 'Exterior2nd', 'MasVnrType',\n",
       "       'MasVnrArea', 'ExterQual', 'ExterCond', 'Foundation', 'BsmtQual',\n",
       "       'BsmtCond', 'BsmtExposure', 'BsmtFinType1', 'BsmtFinSF1',\n",
       "       'BsmtFinType2', 'BsmtFinSF2', 'BsmtUnfSF', 'TotalBsmtSF', 'Heating',\n",
       "       'HeatingQC', 'CentralAir', 'Electrical', '1stFlrSF', '2ndFlrSF',\n",
       "       'LowQualFinSF', 'GrLivArea', 'BsmtFullBath', 'BsmtHalfBath', 'FullBath',\n",
       "       'HalfBath', 'BedroomAbvGr', 'KitchenAbvGr', 'KitchenQual',\n",
       "       'TotRmsAbvGrd', 'Functional', 'Fireplaces', 'FireplaceQu', 'GarageType',\n",
       "       'GarageYrBlt', 'GarageFinish', 'GarageCars', 'GarageArea', 'GarageQual',\n",
       "       'GarageCond', 'PavedDrive', 'WoodDeckSF', 'OpenPorchSF',\n",
       "       'EnclosedPorch', '3SsnPorch', 'ScreenPorch', 'PoolArea', 'PoolQC',\n",
       "       'Fence', 'MiscFeature', 'MiscVal', 'MoSold', 'YrSold', 'SaleType',\n",
       "       'SaleCondition', 'SalePrice'],\n",
       "      dtype='object')"
      ]
     },
     "execution_count": 10,
     "metadata": {},
     "output_type": "execute_result"
    }
   ],
   "source": [
    "hp_df.columns   # to see all the columns in data frame"
   ]
  },
  {
   "cell_type": "code",
   "execution_count": 11,
   "id": "73190d9a",
   "metadata": {},
   "outputs": [
    {
     "data": {
      "text/html": [
       "<div>\n",
       "<style scoped>\n",
       "    .dataframe tbody tr th:only-of-type {\n",
       "        vertical-align: middle;\n",
       "    }\n",
       "\n",
       "    .dataframe tbody tr th {\n",
       "        vertical-align: top;\n",
       "    }\n",
       "\n",
       "    .dataframe thead th {\n",
       "        text-align: right;\n",
       "    }\n",
       "</style>\n",
       "<table border=\"1\" class=\"dataframe\">\n",
       "  <thead>\n",
       "    <tr style=\"text-align: right;\">\n",
       "      <th></th>\n",
       "      <th>MSZoning</th>\n",
       "      <th>SalePrice</th>\n",
       "    </tr>\n",
       "  </thead>\n",
       "  <tbody>\n",
       "    <tr>\n",
       "      <th>0</th>\n",
       "      <td>RL</td>\n",
       "      <td>208500</td>\n",
       "    </tr>\n",
       "    <tr>\n",
       "      <th>1</th>\n",
       "      <td>RL</td>\n",
       "      <td>181500</td>\n",
       "    </tr>\n",
       "    <tr>\n",
       "      <th>2</th>\n",
       "      <td>RL</td>\n",
       "      <td>223500</td>\n",
       "    </tr>\n",
       "    <tr>\n",
       "      <th>3</th>\n",
       "      <td>RL</td>\n",
       "      <td>140000</td>\n",
       "    </tr>\n",
       "    <tr>\n",
       "      <th>4</th>\n",
       "      <td>RL</td>\n",
       "      <td>250000</td>\n",
       "    </tr>\n",
       "    <tr>\n",
       "      <th>...</th>\n",
       "      <td>...</td>\n",
       "      <td>...</td>\n",
       "    </tr>\n",
       "    <tr>\n",
       "      <th>1455</th>\n",
       "      <td>RL</td>\n",
       "      <td>175000</td>\n",
       "    </tr>\n",
       "    <tr>\n",
       "      <th>1456</th>\n",
       "      <td>RL</td>\n",
       "      <td>210000</td>\n",
       "    </tr>\n",
       "    <tr>\n",
       "      <th>1457</th>\n",
       "      <td>RL</td>\n",
       "      <td>266500</td>\n",
       "    </tr>\n",
       "    <tr>\n",
       "      <th>1458</th>\n",
       "      <td>RL</td>\n",
       "      <td>142125</td>\n",
       "    </tr>\n",
       "    <tr>\n",
       "      <th>1459</th>\n",
       "      <td>RL</td>\n",
       "      <td>147500</td>\n",
       "    </tr>\n",
       "  </tbody>\n",
       "</table>\n",
       "<p>1460 rows × 2 columns</p>\n",
       "</div>"
      ],
      "text/plain": [
       "     MSZoning  SalePrice\n",
       "0          RL     208500\n",
       "1          RL     181500\n",
       "2          RL     223500\n",
       "3          RL     140000\n",
       "4          RL     250000\n",
       "...       ...        ...\n",
       "1455       RL     175000\n",
       "1456       RL     210000\n",
       "1457       RL     266500\n",
       "1458       RL     142125\n",
       "1459       RL     147500\n",
       "\n",
       "[1460 rows x 2 columns]"
      ]
     },
     "execution_count": 11,
     "metadata": {},
     "output_type": "execute_result"
    }
   ],
   "source": [
    "hp_df[['MSZoning','SalePrice']]    # accessing two series in a data frame"
   ]
  },
  {
   "cell_type": "code",
   "execution_count": 12,
   "id": "3bc5c37d",
   "metadata": {},
   "outputs": [
    {
     "data": {
      "text/html": [
       "<div>\n",
       "<style scoped>\n",
       "    .dataframe tbody tr th:only-of-type {\n",
       "        vertical-align: middle;\n",
       "    }\n",
       "\n",
       "    .dataframe tbody tr th {\n",
       "        vertical-align: top;\n",
       "    }\n",
       "\n",
       "    .dataframe thead th {\n",
       "        text-align: right;\n",
       "    }\n",
       "</style>\n",
       "<table border=\"1\" class=\"dataframe\">\n",
       "  <thead>\n",
       "    <tr style=\"text-align: right;\">\n",
       "      <th></th>\n",
       "      <th>Id</th>\n",
       "      <th>MSSubClass</th>\n",
       "      <th>LotFrontage</th>\n",
       "      <th>LotArea</th>\n",
       "      <th>OverallQual</th>\n",
       "      <th>OverallCond</th>\n",
       "      <th>YearBuilt</th>\n",
       "      <th>YearRemodAdd</th>\n",
       "      <th>MasVnrArea</th>\n",
       "      <th>BsmtFinSF1</th>\n",
       "      <th>...</th>\n",
       "      <th>WoodDeckSF</th>\n",
       "      <th>OpenPorchSF</th>\n",
       "      <th>EnclosedPorch</th>\n",
       "      <th>3SsnPorch</th>\n",
       "      <th>ScreenPorch</th>\n",
       "      <th>PoolArea</th>\n",
       "      <th>MiscVal</th>\n",
       "      <th>MoSold</th>\n",
       "      <th>YrSold</th>\n",
       "      <th>SalePrice</th>\n",
       "    </tr>\n",
       "  </thead>\n",
       "  <tbody>\n",
       "    <tr>\n",
       "      <th>count</th>\n",
       "      <td>1460.000000</td>\n",
       "      <td>1460.000000</td>\n",
       "      <td>1201.000000</td>\n",
       "      <td>1460.000000</td>\n",
       "      <td>1460.000000</td>\n",
       "      <td>1460.000000</td>\n",
       "      <td>1460.000000</td>\n",
       "      <td>1460.000000</td>\n",
       "      <td>1452.000000</td>\n",
       "      <td>1460.000000</td>\n",
       "      <td>...</td>\n",
       "      <td>1460.000000</td>\n",
       "      <td>1460.000000</td>\n",
       "      <td>1460.000000</td>\n",
       "      <td>1460.000000</td>\n",
       "      <td>1460.000000</td>\n",
       "      <td>1460.000000</td>\n",
       "      <td>1460.000000</td>\n",
       "      <td>1460.000000</td>\n",
       "      <td>1460.000000</td>\n",
       "      <td>1460.000000</td>\n",
       "    </tr>\n",
       "    <tr>\n",
       "      <th>mean</th>\n",
       "      <td>730.500000</td>\n",
       "      <td>56.897260</td>\n",
       "      <td>70.049958</td>\n",
       "      <td>10516.828082</td>\n",
       "      <td>6.099315</td>\n",
       "      <td>5.575342</td>\n",
       "      <td>1971.267808</td>\n",
       "      <td>1984.865753</td>\n",
       "      <td>103.685262</td>\n",
       "      <td>443.639726</td>\n",
       "      <td>...</td>\n",
       "      <td>94.244521</td>\n",
       "      <td>46.660274</td>\n",
       "      <td>21.954110</td>\n",
       "      <td>3.409589</td>\n",
       "      <td>15.060959</td>\n",
       "      <td>2.758904</td>\n",
       "      <td>43.489041</td>\n",
       "      <td>6.321918</td>\n",
       "      <td>2007.815753</td>\n",
       "      <td>180921.195890</td>\n",
       "    </tr>\n",
       "    <tr>\n",
       "      <th>std</th>\n",
       "      <td>421.610009</td>\n",
       "      <td>42.300571</td>\n",
       "      <td>24.284752</td>\n",
       "      <td>9981.264932</td>\n",
       "      <td>1.382997</td>\n",
       "      <td>1.112799</td>\n",
       "      <td>30.202904</td>\n",
       "      <td>20.645407</td>\n",
       "      <td>181.066207</td>\n",
       "      <td>456.098091</td>\n",
       "      <td>...</td>\n",
       "      <td>125.338794</td>\n",
       "      <td>66.256028</td>\n",
       "      <td>61.119149</td>\n",
       "      <td>29.317331</td>\n",
       "      <td>55.757415</td>\n",
       "      <td>40.177307</td>\n",
       "      <td>496.123024</td>\n",
       "      <td>2.703626</td>\n",
       "      <td>1.328095</td>\n",
       "      <td>79442.502883</td>\n",
       "    </tr>\n",
       "    <tr>\n",
       "      <th>min</th>\n",
       "      <td>1.000000</td>\n",
       "      <td>20.000000</td>\n",
       "      <td>21.000000</td>\n",
       "      <td>1300.000000</td>\n",
       "      <td>1.000000</td>\n",
       "      <td>1.000000</td>\n",
       "      <td>1872.000000</td>\n",
       "      <td>1950.000000</td>\n",
       "      <td>0.000000</td>\n",
       "      <td>0.000000</td>\n",
       "      <td>...</td>\n",
       "      <td>0.000000</td>\n",
       "      <td>0.000000</td>\n",
       "      <td>0.000000</td>\n",
       "      <td>0.000000</td>\n",
       "      <td>0.000000</td>\n",
       "      <td>0.000000</td>\n",
       "      <td>0.000000</td>\n",
       "      <td>1.000000</td>\n",
       "      <td>2006.000000</td>\n",
       "      <td>34900.000000</td>\n",
       "    </tr>\n",
       "    <tr>\n",
       "      <th>25%</th>\n",
       "      <td>365.750000</td>\n",
       "      <td>20.000000</td>\n",
       "      <td>59.000000</td>\n",
       "      <td>7553.500000</td>\n",
       "      <td>5.000000</td>\n",
       "      <td>5.000000</td>\n",
       "      <td>1954.000000</td>\n",
       "      <td>1967.000000</td>\n",
       "      <td>0.000000</td>\n",
       "      <td>0.000000</td>\n",
       "      <td>...</td>\n",
       "      <td>0.000000</td>\n",
       "      <td>0.000000</td>\n",
       "      <td>0.000000</td>\n",
       "      <td>0.000000</td>\n",
       "      <td>0.000000</td>\n",
       "      <td>0.000000</td>\n",
       "      <td>0.000000</td>\n",
       "      <td>5.000000</td>\n",
       "      <td>2007.000000</td>\n",
       "      <td>129975.000000</td>\n",
       "    </tr>\n",
       "    <tr>\n",
       "      <th>50%</th>\n",
       "      <td>730.500000</td>\n",
       "      <td>50.000000</td>\n",
       "      <td>69.000000</td>\n",
       "      <td>9478.500000</td>\n",
       "      <td>6.000000</td>\n",
       "      <td>5.000000</td>\n",
       "      <td>1973.000000</td>\n",
       "      <td>1994.000000</td>\n",
       "      <td>0.000000</td>\n",
       "      <td>383.500000</td>\n",
       "      <td>...</td>\n",
       "      <td>0.000000</td>\n",
       "      <td>25.000000</td>\n",
       "      <td>0.000000</td>\n",
       "      <td>0.000000</td>\n",
       "      <td>0.000000</td>\n",
       "      <td>0.000000</td>\n",
       "      <td>0.000000</td>\n",
       "      <td>6.000000</td>\n",
       "      <td>2008.000000</td>\n",
       "      <td>163000.000000</td>\n",
       "    </tr>\n",
       "    <tr>\n",
       "      <th>75%</th>\n",
       "      <td>1095.250000</td>\n",
       "      <td>70.000000</td>\n",
       "      <td>80.000000</td>\n",
       "      <td>11601.500000</td>\n",
       "      <td>7.000000</td>\n",
       "      <td>6.000000</td>\n",
       "      <td>2000.000000</td>\n",
       "      <td>2004.000000</td>\n",
       "      <td>166.000000</td>\n",
       "      <td>712.250000</td>\n",
       "      <td>...</td>\n",
       "      <td>168.000000</td>\n",
       "      <td>68.000000</td>\n",
       "      <td>0.000000</td>\n",
       "      <td>0.000000</td>\n",
       "      <td>0.000000</td>\n",
       "      <td>0.000000</td>\n",
       "      <td>0.000000</td>\n",
       "      <td>8.000000</td>\n",
       "      <td>2009.000000</td>\n",
       "      <td>214000.000000</td>\n",
       "    </tr>\n",
       "    <tr>\n",
       "      <th>max</th>\n",
       "      <td>1460.000000</td>\n",
       "      <td>190.000000</td>\n",
       "      <td>313.000000</td>\n",
       "      <td>215245.000000</td>\n",
       "      <td>10.000000</td>\n",
       "      <td>9.000000</td>\n",
       "      <td>2010.000000</td>\n",
       "      <td>2010.000000</td>\n",
       "      <td>1600.000000</td>\n",
       "      <td>5644.000000</td>\n",
       "      <td>...</td>\n",
       "      <td>857.000000</td>\n",
       "      <td>547.000000</td>\n",
       "      <td>552.000000</td>\n",
       "      <td>508.000000</td>\n",
       "      <td>480.000000</td>\n",
       "      <td>738.000000</td>\n",
       "      <td>15500.000000</td>\n",
       "      <td>12.000000</td>\n",
       "      <td>2010.000000</td>\n",
       "      <td>755000.000000</td>\n",
       "    </tr>\n",
       "  </tbody>\n",
       "</table>\n",
       "<p>8 rows × 38 columns</p>\n",
       "</div>"
      ],
      "text/plain": [
       "                Id   MSSubClass  LotFrontage        LotArea  OverallQual  \\\n",
       "count  1460.000000  1460.000000  1201.000000    1460.000000  1460.000000   \n",
       "mean    730.500000    56.897260    70.049958   10516.828082     6.099315   \n",
       "std     421.610009    42.300571    24.284752    9981.264932     1.382997   \n",
       "min       1.000000    20.000000    21.000000    1300.000000     1.000000   \n",
       "25%     365.750000    20.000000    59.000000    7553.500000     5.000000   \n",
       "50%     730.500000    50.000000    69.000000    9478.500000     6.000000   \n",
       "75%    1095.250000    70.000000    80.000000   11601.500000     7.000000   \n",
       "max    1460.000000   190.000000   313.000000  215245.000000    10.000000   \n",
       "\n",
       "       OverallCond    YearBuilt  YearRemodAdd   MasVnrArea   BsmtFinSF1  ...  \\\n",
       "count  1460.000000  1460.000000   1460.000000  1452.000000  1460.000000  ...   \n",
       "mean      5.575342  1971.267808   1984.865753   103.685262   443.639726  ...   \n",
       "std       1.112799    30.202904     20.645407   181.066207   456.098091  ...   \n",
       "min       1.000000  1872.000000   1950.000000     0.000000     0.000000  ...   \n",
       "25%       5.000000  1954.000000   1967.000000     0.000000     0.000000  ...   \n",
       "50%       5.000000  1973.000000   1994.000000     0.000000   383.500000  ...   \n",
       "75%       6.000000  2000.000000   2004.000000   166.000000   712.250000  ...   \n",
       "max       9.000000  2010.000000   2010.000000  1600.000000  5644.000000  ...   \n",
       "\n",
       "        WoodDeckSF  OpenPorchSF  EnclosedPorch    3SsnPorch  ScreenPorch  \\\n",
       "count  1460.000000  1460.000000    1460.000000  1460.000000  1460.000000   \n",
       "mean     94.244521    46.660274      21.954110     3.409589    15.060959   \n",
       "std     125.338794    66.256028      61.119149    29.317331    55.757415   \n",
       "min       0.000000     0.000000       0.000000     0.000000     0.000000   \n",
       "25%       0.000000     0.000000       0.000000     0.000000     0.000000   \n",
       "50%       0.000000    25.000000       0.000000     0.000000     0.000000   \n",
       "75%     168.000000    68.000000       0.000000     0.000000     0.000000   \n",
       "max     857.000000   547.000000     552.000000   508.000000   480.000000   \n",
       "\n",
       "          PoolArea       MiscVal       MoSold       YrSold      SalePrice  \n",
       "count  1460.000000   1460.000000  1460.000000  1460.000000    1460.000000  \n",
       "mean      2.758904     43.489041     6.321918  2007.815753  180921.195890  \n",
       "std      40.177307    496.123024     2.703626     1.328095   79442.502883  \n",
       "min       0.000000      0.000000     1.000000  2006.000000   34900.000000  \n",
       "25%       0.000000      0.000000     5.000000  2007.000000  129975.000000  \n",
       "50%       0.000000      0.000000     6.000000  2008.000000  163000.000000  \n",
       "75%       0.000000      0.000000     8.000000  2009.000000  214000.000000  \n",
       "max     738.000000  15500.000000    12.000000  2010.000000  755000.000000  \n",
       "\n",
       "[8 rows x 38 columns]"
      ]
     },
     "execution_count": 12,
     "metadata": {},
     "output_type": "execute_result"
    }
   ],
   "source": [
    "hp_df.describe()   # shows the mean,std percentiles of all columns"
   ]
  },
  {
   "cell_type": "code",
   "execution_count": 13,
   "id": "8934aecf",
   "metadata": {},
   "outputs": [
    {
     "data": {
      "text/plain": [
       "count      1460.000000\n",
       "mean     180921.195890\n",
       "std       79442.502883\n",
       "min       34900.000000\n",
       "25%      129975.000000\n",
       "50%      163000.000000\n",
       "75%      214000.000000\n",
       "max      755000.000000\n",
       "Name: SalePrice, dtype: float64"
      ]
     },
     "execution_count": 13,
     "metadata": {},
     "output_type": "execute_result"
    }
   ],
   "source": [
    "hp_df['SalePrice'].describe()   # mean for one column"
   ]
  },
  {
   "cell_type": "code",
   "execution_count": 14,
   "id": "de907a5f",
   "metadata": {},
   "outputs": [
    {
     "data": {
      "text/plain": [
       "Id                 0\n",
       "MSSubClass         0\n",
       "MSZoning           0\n",
       "LotFrontage      259\n",
       "LotArea            0\n",
       "                ... \n",
       "MoSold             0\n",
       "YrSold             0\n",
       "SaleType           0\n",
       "SaleCondition      0\n",
       "SalePrice          0\n",
       "Length: 81, dtype: int64"
      ]
     },
     "execution_count": 14,
     "metadata": {},
     "output_type": "execute_result"
    }
   ],
   "source": [
    "hp_df.isnull().sum()   # .isnull().sum() returns the no of null values in each series"
   ]
  },
  {
   "cell_type": "code",
   "execution_count": 15,
   "id": "234cc966",
   "metadata": {},
   "outputs": [
    {
     "data": {
      "text/plain": [
       "0       12.247694\n",
       "1       12.109011\n",
       "2       12.317167\n",
       "3       11.849398\n",
       "4       12.429216\n",
       "          ...    \n",
       "1455    12.072541\n",
       "1456    12.254863\n",
       "1457    12.493130\n",
       "1458    11.864462\n",
       "1459    11.901583\n",
       "Name: SalePrice, Length: 1460, dtype: float64"
      ]
     },
     "execution_count": 15,
     "metadata": {},
     "output_type": "execute_result"
    }
   ],
   "source": [
    "# to apply log for column\n",
    "\n",
    "import numpy as np\n",
    "\n",
    "hp_df['SalePrice'].apply(np.log)"
   ]
  },
  {
   "cell_type": "code",
   "execution_count": 16,
   "id": "560162de",
   "metadata": {},
   "outputs": [
    {
     "data": {
      "text/plain": [
       "0       21st century\n",
       "1       20th century\n",
       "2       21st century\n",
       "3       20th century\n",
       "4       21st century\n",
       "            ...     \n",
       "1455    20th century\n",
       "1456    20th century\n",
       "1457    20th century\n",
       "1458    20th century\n",
       "1459    20th century\n",
       "Name: YearBuilt, Length: 1460, dtype: object"
      ]
     },
     "execution_count": 16,
     "metadata": {},
     "output_type": "execute_result"
    }
   ],
   "source": [
    "# Que-->print year interms of which century it belongs to \n",
    "\n",
    "def get_century(year):\n",
    "    if year<2000:\n",
    "        return '20th century'\n",
    "    if year>=2000:\n",
    "        return '21st century'\n",
    "\n",
    "hp_df['YearBuilt'].apply(get_century)\n"
   ]
  },
  {
   "cell_type": "markdown",
   "id": "e93b50c0",
   "metadata": {},
   "source": [
    "# FILL MISSING VALUES"
   ]
  },
  {
   "cell_type": "code",
   "execution_count": 17,
   "id": "bf2b4006",
   "metadata": {},
   "outputs": [
    {
     "data": {
      "text/plain": [
       "Id                 0\n",
       "MSSubClass         0\n",
       "MSZoning           0\n",
       "LotFrontage      259\n",
       "LotArea            0\n",
       "                ... \n",
       "MoSold             0\n",
       "YrSold             0\n",
       "SaleType           0\n",
       "SaleCondition      0\n",
       "SalePrice          0\n",
       "Length: 81, dtype: int64"
      ]
     },
     "execution_count": 17,
     "metadata": {},
     "output_type": "execute_result"
    }
   ],
   "source": [
    "hp_df.isnull().sum()"
   ]
  },
  {
   "cell_type": "code",
   "execution_count": 18,
   "id": "e79aec65",
   "metadata": {},
   "outputs": [
    {
     "data": {
      "text/plain": [
       "0       65.0\n",
       "1       80.0\n",
       "2       68.0\n",
       "3       60.0\n",
       "4       84.0\n",
       "        ... \n",
       "1455    62.0\n",
       "1456    85.0\n",
       "1457    66.0\n",
       "1458    68.0\n",
       "1459    75.0\n",
       "Name: LotFrontage, Length: 1460, dtype: float64"
      ]
     },
     "execution_count": 18,
     "metadata": {},
     "output_type": "execute_result"
    }
   ],
   "source": [
    "hp_df['LotFrontage']"
   ]
  },
  {
   "cell_type": "code",
   "execution_count": 19,
   "id": "048a818d",
   "metadata": {},
   "outputs": [
    {
     "data": {
      "text/plain": [
       "70.04995836802665"
      ]
     },
     "execution_count": 19,
     "metadata": {},
     "output_type": "execute_result"
    }
   ],
   "source": [
    "hp_df['LotFrontage'].mean()  # mean of a column"
   ]
  },
  {
   "cell_type": "code",
   "execution_count": 20,
   "id": "4a84e13e",
   "metadata": {},
   "outputs": [
    {
     "data": {
      "text/plain": [
       "0       65.0\n",
       "1       80.0\n",
       "2       68.0\n",
       "3       60.0\n",
       "4       84.0\n",
       "        ... \n",
       "1455    62.0\n",
       "1456    85.0\n",
       "1457    66.0\n",
       "1458    68.0\n",
       "1459    75.0\n",
       "Name: LotFrontage, Length: 1460, dtype: float64"
      ]
     },
     "execution_count": 20,
     "metadata": {},
     "output_type": "execute_result"
    }
   ],
   "source": [
    "hp_df['LotFrontage'].fillna(hp_df['LotFrontage'].mean()) # now missing values are replaced by mean"
   ]
  },
  {
   "cell_type": "code",
   "execution_count": 21,
   "id": "b87c47a1",
   "metadata": {},
   "outputs": [
    {
     "data": {
      "text/plain": [
       "259"
      ]
     },
     "execution_count": 21,
     "metadata": {},
     "output_type": "execute_result"
    }
   ],
   "source": [
    "hp_df['LotFrontage'].isnull().sum()  #but we are getting missing values again so use inplace=True"
   ]
  },
  {
   "cell_type": "code",
   "execution_count": 22,
   "id": "5afc76ed",
   "metadata": {},
   "outputs": [
    {
     "data": {
      "text/plain": [
       "0"
      ]
     },
     "execution_count": 22,
     "metadata": {},
     "output_type": "execute_result"
    }
   ],
   "source": [
    "hp_df['LotFrontage'].fillna(hp_df['LotFrontage'].mean(),inplace=True)\n",
    "\n",
    "hp_df['LotFrontage'].isnull().sum()"
   ]
  },
  {
   "cell_type": "markdown",
   "id": "da94fadc",
   "metadata": {},
   "source": [
    "# custom dataframe"
   ]
  },
  {
   "cell_type": "code",
   "execution_count": 23,
   "id": "8b0e544c",
   "metadata": {},
   "outputs": [
    {
     "data": {
      "text/html": [
       "<div>\n",
       "<style scoped>\n",
       "    .dataframe tbody tr th:only-of-type {\n",
       "        vertical-align: middle;\n",
       "    }\n",
       "\n",
       "    .dataframe tbody tr th {\n",
       "        vertical-align: top;\n",
       "    }\n",
       "\n",
       "    .dataframe thead th {\n",
       "        text-align: right;\n",
       "    }\n",
       "</style>\n",
       "<table border=\"1\" class=\"dataframe\">\n",
       "  <thead>\n",
       "    <tr style=\"text-align: right;\">\n",
       "      <th></th>\n",
       "      <th>student</th>\n",
       "      <th>scores</th>\n",
       "      <th>location</th>\n",
       "    </tr>\n",
       "  </thead>\n",
       "  <tbody>\n",
       "    <tr>\n",
       "      <th>0</th>\n",
       "      <td>mans</td>\n",
       "      <td>99</td>\n",
       "      <td>gun</td>\n",
       "    </tr>\n",
       "    <tr>\n",
       "      <th>1</th>\n",
       "      <td>gori</td>\n",
       "      <td>95</td>\n",
       "      <td>hyd</td>\n",
       "    </tr>\n",
       "    <tr>\n",
       "      <th>2</th>\n",
       "      <td>bhula</td>\n",
       "      <td>92</td>\n",
       "      <td>rjy</td>\n",
       "    </tr>\n",
       "  </tbody>\n",
       "</table>\n",
       "</div>"
      ],
      "text/plain": [
       "  student  scores location\n",
       "0    mans      99      gun\n",
       "1    gori      95      hyd\n",
       "2   bhula      92      rjy"
      ]
     },
     "execution_count": 23,
     "metadata": {},
     "output_type": "execute_result"
    }
   ],
   "source": [
    "std_info=pd.DataFrame({'student':['mans','gori','bhula'],\n",
    "                      'scores':[99,95,92],\n",
    "                      'location':['gun','hyd','rjy']})\n",
    "std_info"
   ]
  },
  {
   "cell_type": "code",
   "execution_count": 24,
   "id": "080cab5d",
   "metadata": {},
   "outputs": [
    {
     "data": {
      "text/plain": [
       "Index(['student', 'scores', 'location'], dtype='object')"
      ]
     },
     "execution_count": 24,
     "metadata": {},
     "output_type": "execute_result"
    }
   ],
   "source": [
    "std_info.columns"
   ]
  },
  {
   "cell_type": "code",
   "execution_count": 25,
   "id": "afdd7bbd",
   "metadata": {},
   "outputs": [
    {
     "data": {
      "text/plain": [
       "(3, 3)"
      ]
     },
     "execution_count": 25,
     "metadata": {},
     "output_type": "execute_result"
    }
   ],
   "source": [
    "std_info.shape"
   ]
  },
  {
   "cell_type": "code",
   "execution_count": 26,
   "id": "c350f3e0",
   "metadata": {},
   "outputs": [
    {
     "data": {
      "text/html": [
       "<div>\n",
       "<style scoped>\n",
       "    .dataframe tbody tr th:only-of-type {\n",
       "        vertical-align: middle;\n",
       "    }\n",
       "\n",
       "    .dataframe tbody tr th {\n",
       "        vertical-align: top;\n",
       "    }\n",
       "\n",
       "    .dataframe thead th {\n",
       "        text-align: right;\n",
       "    }\n",
       "</style>\n",
       "<table border=\"1\" class=\"dataframe\">\n",
       "  <thead>\n",
       "    <tr style=\"text-align: right;\">\n",
       "      <th></th>\n",
       "      <th>column_name</th>\n",
       "      <th>missing_value_count</th>\n",
       "      <th>missing_value_percentage</th>\n",
       "    </tr>\n",
       "  </thead>\n",
       "  <tbody>\n",
       "    <tr>\n",
       "      <th>Id</th>\n",
       "      <td>Id</td>\n",
       "      <td>0</td>\n",
       "      <td>0.0</td>\n",
       "    </tr>\n",
       "    <tr>\n",
       "      <th>MSSubClass</th>\n",
       "      <td>MSSubClass</td>\n",
       "      <td>0</td>\n",
       "      <td>0.0</td>\n",
       "    </tr>\n",
       "    <tr>\n",
       "      <th>MSZoning</th>\n",
       "      <td>MSZoning</td>\n",
       "      <td>0</td>\n",
       "      <td>0.0</td>\n",
       "    </tr>\n",
       "    <tr>\n",
       "      <th>LotFrontage</th>\n",
       "      <td>LotFrontage</td>\n",
       "      <td>0</td>\n",
       "      <td>0.0</td>\n",
       "    </tr>\n",
       "    <tr>\n",
       "      <th>LotArea</th>\n",
       "      <td>LotArea</td>\n",
       "      <td>0</td>\n",
       "      <td>0.0</td>\n",
       "    </tr>\n",
       "    <tr>\n",
       "      <th>...</th>\n",
       "      <td>...</td>\n",
       "      <td>...</td>\n",
       "      <td>...</td>\n",
       "    </tr>\n",
       "    <tr>\n",
       "      <th>MoSold</th>\n",
       "      <td>MoSold</td>\n",
       "      <td>0</td>\n",
       "      <td>0.0</td>\n",
       "    </tr>\n",
       "    <tr>\n",
       "      <th>YrSold</th>\n",
       "      <td>YrSold</td>\n",
       "      <td>0</td>\n",
       "      <td>0.0</td>\n",
       "    </tr>\n",
       "    <tr>\n",
       "      <th>SaleType</th>\n",
       "      <td>SaleType</td>\n",
       "      <td>0</td>\n",
       "      <td>0.0</td>\n",
       "    </tr>\n",
       "    <tr>\n",
       "      <th>SaleCondition</th>\n",
       "      <td>SaleCondition</td>\n",
       "      <td>0</td>\n",
       "      <td>0.0</td>\n",
       "    </tr>\n",
       "    <tr>\n",
       "      <th>SalePrice</th>\n",
       "      <td>SalePrice</td>\n",
       "      <td>0</td>\n",
       "      <td>0.0</td>\n",
       "    </tr>\n",
       "  </tbody>\n",
       "</table>\n",
       "<p>81 rows × 3 columns</p>\n",
       "</div>"
      ],
      "text/plain": [
       "                 column_name  missing_value_count  missing_value_percentage\n",
       "Id                        Id                    0                       0.0\n",
       "MSSubClass        MSSubClass                    0                       0.0\n",
       "MSZoning            MSZoning                    0                       0.0\n",
       "LotFrontage      LotFrontage                    0                       0.0\n",
       "LotArea              LotArea                    0                       0.0\n",
       "...                      ...                  ...                       ...\n",
       "MoSold                MoSold                    0                       0.0\n",
       "YrSold                YrSold                    0                       0.0\n",
       "SaleType            SaleType                    0                       0.0\n",
       "SaleCondition  SaleCondition                    0                       0.0\n",
       "SalePrice          SalePrice                    0                       0.0\n",
       "\n",
       "[81 rows x 3 columns]"
      ]
     },
     "execution_count": 26,
     "metadata": {},
     "output_type": "execute_result"
    }
   ],
   "source": [
    "cus_df=pd.DataFrame({'column_name':hp_df.columns,\n",
    "                    'missing_value_count':hp_df.isnull().sum(),\n",
    "                    'missing_value_percentage':hp_df.isnull().sum()/hp_df.shape[0]*100})\n",
    "\n",
    "cus_df"
   ]
  },
  {
   "cell_type": "markdown",
   "id": "007b39f3",
   "metadata": {},
   "source": [
    "# categorical and continuous columns"
   ]
  },
  {
   "cell_type": "code",
   "execution_count": 27,
   "id": "7ede2626",
   "metadata": {},
   "outputs": [
    {
     "name": "stdout",
     "output_type": "stream",
     "text": [
      "['Id', 'MSSubClass', 'LotFrontage', 'LotArea', 'OverallQual', 'OverallCond', 'YearBuilt', 'YearRemodAdd', 'MasVnrArea', 'BsmtFinSF1', 'BsmtFinSF2', 'BsmtUnfSF', 'TotalBsmtSF', '1stFlrSF', '2ndFlrSF', 'LowQualFinSF', 'GrLivArea', 'BsmtFullBath', 'BsmtHalfBath', 'FullBath', 'HalfBath', 'BedroomAbvGr', 'KitchenAbvGr', 'TotRmsAbvGrd', 'Fireplaces', 'GarageYrBlt', 'GarageCars', 'GarageArea', 'WoodDeckSF', 'OpenPorchSF', 'EnclosedPorch', '3SsnPorch', 'ScreenPorch', 'PoolArea', 'MiscVal', 'MoSold', 'YrSold', 'SalePrice']\n",
      "['MSZoning', 'Street', 'Alley', 'LotShape', 'LandContour', 'Utilities', 'LotConfig', 'LandSlope', 'Neighborhood', 'Condition1', 'Condition2', 'BldgType', 'HouseStyle', 'RoofStyle', 'RoofMatl', 'Exterior1st', 'Exterior2nd', 'MasVnrType', 'ExterQual', 'ExterCond', 'Foundation', 'BsmtQual', 'BsmtCond', 'BsmtExposure', 'BsmtFinType1', 'BsmtFinType2', 'Heating', 'HeatingQC', 'CentralAir', 'Electrical', 'KitchenQual', 'Functional', 'FireplaceQu', 'GarageType', 'GarageFinish', 'GarageQual', 'GarageCond', 'PavedDrive', 'PoolQC', 'Fence', 'MiscFeature', 'SaleType', 'SaleCondition']\n"
     ]
    }
   ],
   "source": [
    "# QUE --> put all the continuos and categorical in two different lists\n",
    "\n",
    "con_cols=[]\n",
    "cat_cols=[]\n",
    "\n",
    "for col in hp_df.columns:\n",
    "    if hp_df[col].dtype=='int64' or hp_df[col].dtype=='float64':\n",
    "        con_cols.append(col)\n",
    "    \n",
    "    if hp_df[col].dtype=='object':\n",
    "        cat_cols.append(col)\n",
    "        \n",
    "print(con_cols)\n",
    "\n",
    "print(cat_cols)\n",
    "    \n"
   ]
  },
  {
   "cell_type": "code",
   "execution_count": 29,
   "id": "4ca48fb1",
   "metadata": {},
   "outputs": [
    {
     "data": {
      "text/plain": [
       "0       208500\n",
       "1       181500\n",
       "2       223500\n",
       "3       140000\n",
       "4       250000\n",
       "         ...  \n",
       "1455    175000\n",
       "1456    210000\n",
       "1457    266500\n",
       "1458    142125\n",
       "1459    147500\n",
       "Name: SalePrice, Length: 1460, dtype: int64"
      ]
     },
     "execution_count": 29,
     "metadata": {},
     "output_type": "execute_result"
    }
   ],
   "source": [
    "hp_df['SalePrice']"
   ]
  },
  {
   "cell_type": "code",
   "execution_count": 33,
   "id": "51861b41",
   "metadata": {},
   "outputs": [
    {
     "data": {
      "text/plain": [
       "array([[1.        , 0.26384335],\n",
       "       [0.26384335, 1.        ]])"
      ]
     },
     "execution_count": 33,
     "metadata": {},
     "output_type": "execute_result"
    }
   ],
   "source": [
    "np.corrcoef(hp_df['SalePrice'],hp_df['LotArea'])"
   ]
  },
  {
   "cell_type": "code",
   "execution_count": 31,
   "id": "e70d30b3",
   "metadata": {},
   "outputs": [
    {
     "name": "stdout",
     "output_type": "stream",
     "text": [
      "[[ 1.         -0.02191672]\n",
      " [-0.02191672  1.        ]]\n",
      "[[ 1.         -0.08428414]\n",
      " [-0.08428414  1.        ]]\n",
      "[[1.         0.33490085]\n",
      " [0.33490085 1.        ]]\n",
      "[[1.         0.26384335]\n",
      " [0.26384335 1.        ]]\n",
      "[[1.        0.7909816]\n",
      " [0.7909816 1.       ]]\n",
      "[[ 1.         -0.07785589]\n",
      " [-0.07785589  1.        ]]\n",
      "[[1.         0.52289733]\n",
      " [0.52289733 1.        ]]\n",
      "[[1.         0.50710097]\n",
      " [0.50710097 1.        ]]\n",
      "[[ 1. nan]\n",
      " [nan nan]]\n",
      "[[1.         0.38641981]\n",
      " [0.38641981 1.        ]]\n",
      "[[ 1.         -0.01137812]\n",
      " [-0.01137812  1.        ]]\n",
      "[[1.         0.21447911]\n",
      " [0.21447911 1.        ]]\n",
      "[[1.         0.61358055]\n",
      " [0.61358055 1.        ]]\n",
      "[[1.         0.60585218]\n",
      " [0.60585218 1.        ]]\n",
      "[[1.        0.3193338]\n",
      " [0.3193338 1.       ]]\n",
      "[[ 1.         -0.02560613]\n",
      " [-0.02560613  1.        ]]\n",
      "[[1.         0.70862448]\n",
      " [0.70862448 1.        ]]\n",
      "[[1.         0.22712223]\n",
      " [0.22712223 1.        ]]\n",
      "[[ 1.         -0.01684415]\n",
      " [-0.01684415  1.        ]]\n",
      "[[1.         0.56066376]\n",
      " [0.56066376 1.        ]]\n",
      "[[1.         0.28410768]\n",
      " [0.28410768 1.        ]]\n",
      "[[1.         0.16821315]\n",
      " [0.16821315 1.        ]]\n",
      "[[ 1.         -0.13590737]\n",
      " [-0.13590737  1.        ]]\n",
      "[[1.         0.53372316]\n",
      " [0.53372316 1.        ]]\n",
      "[[1.         0.46692884]\n",
      " [0.46692884 1.        ]]\n",
      "[[ 1. nan]\n",
      " [nan nan]]\n",
      "[[1.        0.6404092]\n",
      " [0.6404092 1.       ]]\n",
      "[[1.         0.62343144]\n",
      " [0.62343144 1.        ]]\n",
      "[[1.         0.32441344]\n",
      " [0.32441344 1.        ]]\n",
      "[[1.         0.31585623]\n",
      " [0.31585623 1.        ]]\n",
      "[[ 1.         -0.12857796]\n",
      " [-0.12857796  1.        ]]\n",
      "[[1.         0.04458367]\n",
      " [0.04458367 1.        ]]\n",
      "[[1.         0.11144657]\n",
      " [0.11144657 1.        ]]\n",
      "[[1.         0.09240355]\n",
      " [0.09240355 1.        ]]\n",
      "[[ 1.         -0.02118958]\n",
      " [-0.02118958  1.        ]]\n",
      "[[1.         0.04643225]\n",
      " [0.04643225 1.        ]]\n",
      "[[ 1.         -0.02892259]\n",
      " [-0.02892259  1.        ]]\n",
      "[[1. 1.]\n",
      " [1. 1.]]\n"
     ]
    }
   ],
   "source": [
    "for col in con_cols:\n",
    "    if np.corrcoef(hp_df[col],hp_df['SalePrice'])\n",
    "        \n"
   ]
  },
  {
   "cell_type": "code",
   "execution_count": null,
   "id": "4beab0af",
   "metadata": {},
   "outputs": [],
   "source": [
    "# write the above code using list comprehension\n",
    "\n",
    "cat_cols=[col for col in hp_df.columns if hp_df[col].dtype=='int64' or hp_df[col].dtype=='float64']\n",
    "\n",
    "con_cols=[col for col in hp_df.columns if hp_df[col].dtype=='object'] \n",
    "\n",
    "print(con_cols)\n",
    "\n",
    "print(cat_cols)"
   ]
  },
  {
   "cell_type": "code",
   "execution_count": null,
   "id": "6241b553",
   "metadata": {},
   "outputs": [],
   "source": []
  },
  {
   "cell_type": "markdown",
   "id": "7b9583f1",
   "metadata": {},
   "source": [
    "# BOX PLOT"
   ]
  },
  {
   "cell_type": "code",
   "execution_count": null,
   "id": "f3eabf03",
   "metadata": {},
   "outputs": [],
   "source": [
    "# It is the uni-variate analysis\n",
    "# only continuous varaiable series(column) we can do boxplot\n",
    "# to find boxplot u must import boxplot lib"
   ]
  },
  {
   "cell_type": "code",
   "execution_count": null,
   "id": "bf835f7e",
   "metadata": {},
   "outputs": [],
   "source": [
    "import matplotlib.pyplot as plt        # matplotlib,seaborn --> data visualization"
   ]
  },
  {
   "cell_type": "code",
   "execution_count": null,
   "id": "52f837d1",
   "metadata": {},
   "outputs": [],
   "source": [
    "plt.boxplot(hp_df['SalePrice'])"
   ]
  },
  {
   "cell_type": "code",
   "execution_count": null,
   "id": "8a152a83",
   "metadata": {},
   "outputs": [],
   "source": [
    "plt.boxplot(hp_df['MSSubClass'])"
   ]
  },
  {
   "cell_type": "code",
   "execution_count": null,
   "id": "0a21552d",
   "metadata": {},
   "outputs": [],
   "source": [
    "# using seaborn\n",
    "\n",
    "import seaborn as sns   # in seaborn "
   ]
  },
  {
   "cell_type": "code",
   "execution_count": null,
   "id": "d5074499",
   "metadata": {},
   "outputs": [],
   "source": [
    "sns.boxplot(hp_df['SalePrice'])"
   ]
  },
  {
   "cell_type": "code",
   "execution_count": null,
   "id": "a9c22a5c",
   "metadata": {},
   "outputs": [],
   "source": [
    "sns.boxplot(hp_df['MSSubClass'])"
   ]
  },
  {
   "cell_type": "markdown",
   "id": "dd196a62",
   "metadata": {},
   "source": [
    "# scatter plot"
   ]
  },
  {
   "cell_type": "code",
   "execution_count": null,
   "id": "3a718831",
   "metadata": {},
   "outputs": [],
   "source": [
    "# it is the bi-variate analysis --> need two columns\n",
    "\n",
    "plt.scatter(hp_df['LotArea'],hp_df['SalePrice'])"
   ]
  },
  {
   "cell_type": "markdown",
   "id": "ca3fef99",
   "metadata": {},
   "source": [
    "# Histogram using matplot"
   ]
  },
  {
   "cell_type": "code",
   "execution_count": null,
   "id": "40b8d6bd",
   "metadata": {},
   "outputs": [],
   "source": [
    "plt.hist(hp_df['SalePrice'])"
   ]
  },
  {
   "cell_type": "code",
   "execution_count": null,
   "id": "051ad4e3",
   "metadata": {},
   "outputs": [],
   "source": [
    "plt.hist(hp_df['LotArea'])"
   ]
  },
  {
   "cell_type": "markdown",
   "id": "b6c940d0",
   "metadata": {},
   "source": [
    "# Histogram using seaborn"
   ]
  },
  {
   "cell_type": "code",
   "execution_count": null,
   "id": "64fcd216",
   "metadata": {},
   "outputs": [],
   "source": [
    "sns.distplot(hp_df['SalePrice'])"
   ]
  },
  {
   "cell_type": "markdown",
   "id": "182c7c93",
   "metadata": {},
   "source": [
    "# ANOVA TEST --> for one categorical and one continuous"
   ]
  },
  {
   "cell_type": "code",
   "execution_count": null,
   "id": "0ab9faad",
   "metadata": {},
   "outputs": [],
   "source": [
    "# Anova test is b/w one continuous and one categorical series"
   ]
  },
  {
   "cell_type": "code",
   "execution_count": null,
   "id": "44c036d1",
   "metadata": {},
   "outputs": [],
   "source": [
    "from scipy.stats import f_oneway"
   ]
  },
  {
   "cell_type": "code",
   "execution_count": null,
   "id": "ca221583",
   "metadata": {},
   "outputs": [],
   "source": [
    "hp_df['SalePrice']    # continuous variables\n",
    "\n",
    "hp_df['MSZoning']     # categorical variables"
   ]
  },
  {
   "cell_type": "code",
   "execution_count": null,
   "id": "625759e7",
   "metadata": {},
   "outputs": [],
   "source": [
    "hp_df['MSZoning'].value_counts()   # .value_counts() shows no. of diff categories in a series\n",
    "                                   # in MSZoning there are 5 categories i.e; RL,RM,FV,RH,C(all)"
   ]
  },
  {
   "cell_type": "markdown",
   "id": "c36b00c1",
   "metadata": {},
   "source": [
    "# FILTERING"
   ]
  },
  {
   "cell_type": "code",
   "execution_count": null,
   "id": "1f127ea0",
   "metadata": {},
   "outputs": [],
   "source": [
    "hp_df[hp_df['MSZoning']=='RL']['SalePrice']  # this is filtering\n",
    "                                            # so here we took only 'RL' category in MSZoning column\n",
    "                                            # there are 1151 RL's in MSZoning"
   ]
  },
  {
   "cell_type": "code",
   "execution_count": null,
   "id": "bb508236",
   "metadata": {},
   "outputs": [],
   "source": [
    "hp_df[hp_df['MSZoning']=='RM']['SalePrice']  # for 'RM', there are 218 RM's in MSZoning"
   ]
  },
  {
   "cell_type": "code",
   "execution_count": null,
   "id": "270beeff",
   "metadata": {},
   "outputs": [],
   "source": [
    "# filter all the five categories of MSZoning\n",
    "\n",
    "RM_list=list(hp_df[hp_df['MSZoning']=='RM']['SalePrice'])\n",
    "RL_list=list(hp_df[hp_df['MSZoning']=='RL']['SalePrice'])\n",
    "FV_list=list(hp_df[hp_df['MSZoning']=='FV']['SalePrice'])\n",
    "RH_list=list(hp_df[hp_df['MSZoning']=='RH']['SalePrice'])\n",
    "c_all=list(hp_df[hp_df['MSZoning']=='C (all)']['SalePrice'])   # there should be no mistake of category name "
   ]
  },
  {
   "cell_type": "code",
   "execution_count": null,
   "id": "3d19d33c",
   "metadata": {},
   "outputs": [],
   "source": [
    "# use f_oneway and put all the above 5 lists according to documentation\n",
    "\n",
    "f_oneway(RM_list,RL_list,FV_list,RH_list,c_all)"
   ]
  },
  {
   "cell_type": "code",
   "execution_count": null,
   "id": "fd3df3fe",
   "metadata": {},
   "outputs": [],
   "source": [
    "p_value=f_oneway(RM_list,RL_list,FV_list,RH_list,c_all)[1]   # indexing to get only p-value\n",
    " \n",
    "p_value"
   ]
  },
  {
   "cell_type": "code",
   "execution_count": null,
   "id": "54c61791",
   "metadata": {},
   "outputs": [],
   "source": []
  },
  {
   "cell_type": "code",
   "execution_count": null,
   "id": "5d9cb0c8",
   "metadata": {},
   "outputs": [],
   "source": [
    "# so above p-value=0.0000000000......008176 which is less then S.L(significance level)\n",
    "# so if p-value<S.L, then reject Ho --> reject there is co-relation\n",
    "# conclusion is there is co-relation."
   ]
  },
  {
   "cell_type": "code",
   "execution_count": null,
   "id": "18d7e27b",
   "metadata": {},
   "outputs": [],
   "source": [
    "# full program in single cell\n",
    "\n",
    "hp_df['MSZoning'].value_counts()\n",
    "\n",
    "RM_list=list(hp_df[hp_df['MSZoning']=='RM']['SalePrice'])\n",
    "RL_list=list(hp_df[hp_df['MSZoning']=='RL']['SalePrice'])\n",
    "FV_list=list(hp_df[hp_df['MSZoning']=='FV']['SalePrice'])\n",
    "RH_list=list(hp_df[hp_df['MSZoning']=='RH']['SalePrice'])\n",
    "c_all=list(hp_df[hp_df['MSZoning']=='C (all)']['SalePrice'])\n",
    "\n",
    "f_oneway(RM_list,RL_list,FV_list,RH_list,c_all)\n",
    "\n",
    "p_value=f_oneway(RM_list,RL_list,FV_list,RH_list,c_all)[1]   # indexing to get only p-value\n",
    " \n",
    "p_value"
   ]
  },
  {
   "cell_type": "code",
   "execution_count": null,
   "id": "851d8a0d",
   "metadata": {},
   "outputs": [],
   "source": [
    "# the above code using for loop\n",
    "\n",
    "mszone=hp_df['MSZoning'].value_counts().index\n",
    "\n",
    "p_value=f_oneway(*([hp_df[hp_df['MSZoning']==ele]['SalePrice'] for ele in mszone]))[1]\n",
    "    \n",
    "print(p_value)\n"
   ]
  },
  {
   "cell_type": "code",
   "execution_count": null,
   "id": "dad492a2",
   "metadata": {},
   "outputs": [],
   "source": [
    "# the above ANOVA test is only for one categorical column and continuos('SalePrice')\n",
    "\n",
    "# QUE--> check co-relation for all categorical columns and SalePrice"
   ]
  },
  {
   "cell_type": "code",
   "execution_count": null,
   "id": "e39ff5b6",
   "metadata": {},
   "outputs": [],
   "source": [
    "cat_cols=[col for col in hp_df.columns if hp_df[col].dtype=='object']\n",
    "\n",
    "def anova(col):\n",
    "    categor_list=list(hp_df[col].value_counts().index)\n",
    "    \n",
    "    result=f_oneway(*([hp_df[hp_df[col]==cat]['SalePrice'] for cat in categor_list]))\n",
    "    \n",
    "    return result[1],col\n",
    "\n",
    "[anova(col)for col in cat_cols]\n"
   ]
  },
  {
   "cell_type": "code",
   "execution_count": null,
   "id": "95baef0e",
   "metadata": {},
   "outputs": [],
   "source": [
    "len([anova(col) for col in cat_cols])"
   ]
  },
  {
   "cell_type": "code",
   "execution_count": null,
   "id": "8ef6ed43",
   "metadata": {},
   "outputs": [],
   "source": [
    "# QUE--> for above anova test check the co-relation b/w the columns and SalePrice\n",
    "\n",
    "sig_val=0.05\n",
    "\n",
    "corre_cols=[]\n",
    "noncorre_cols=[]\n",
    "\n",
    "p_values=[anova(col) for col in cat_cols]\n",
    "\n",
    "for ele in p_values:\n",
    "    if ele[0]<sig_val:\n",
    "        corre_cols.append(ele[1])\n",
    "        \n",
    "    if ele[0]>sig_val:\n",
    "        noncorre_cols.append(ele[1])    \n",
    "        \n",
    "print(corre_cols)\n",
    " \n",
    "print(noncorre_cols)"
   ]
  },
  {
   "cell_type": "code",
   "execution_count": null,
   "id": "d499e9c0",
   "metadata": {},
   "outputs": [],
   "source": [
    "len(corre_cols)"
   ]
  },
  {
   "cell_type": "code",
   "execution_count": null,
   "id": "45af4379",
   "metadata": {},
   "outputs": [],
   "source": [
    "len(noncorre_cols)"
   ]
  },
  {
   "cell_type": "markdown",
   "id": "964924e0",
   "metadata": {},
   "source": [
    "# STANDARD SCALER"
   ]
  },
  {
   "cell_type": "code",
   "execution_count": null,
   "id": "4767babd",
   "metadata": {},
   "outputs": [],
   "source": [
    "from sklearn.preprocessing import StandardScaler"
   ]
  },
  {
   "cell_type": "code",
   "execution_count": null,
   "id": "823a62a9",
   "metadata": {},
   "outputs": [],
   "source": [
    "# follow documentation\n",
    "\n",
    "std_scaler=StandardScaler()   # create a object\n",
    "\n",
    "std_scaled=std_scaler.fit_transform(np.array(hp_df['LotArea']).reshape(-1,1))  # fit_transform method in StandardScaler\n",
    "\n",
    "std_scaled"
   ]
  },
  {
   "cell_type": "code",
   "execution_count": null,
   "id": "3f2f950c",
   "metadata": {},
   "outputs": [],
   "source": [
    "std_scaled.mean()     # mean is approx = 0 as studied"
   ]
  },
  {
   "cell_type": "code",
   "execution_count": null,
   "id": "ecf9990e",
   "metadata": {},
   "outputs": [],
   "source": [
    "std_scaled.std()    # varaiance or std is = 1"
   ]
  },
  {
   "cell_type": "markdown",
   "id": "27b031e1",
   "metadata": {},
   "source": [
    "# MIN-MAX SCALER"
   ]
  },
  {
   "cell_type": "code",
   "execution_count": null,
   "id": "85e1f62e",
   "metadata": {},
   "outputs": [],
   "source": [
    "from sklearn.preprocessing import MinMaxScaler"
   ]
  },
  {
   "cell_type": "code",
   "execution_count": null,
   "id": "5ac65035",
   "metadata": {},
   "outputs": [],
   "source": [
    "# follow documentation\n",
    "\n",
    "minmax_scalar=MinMaxScaler()  # create a object\n",
    "\n",
    "mm_scaled=minmax_scalar.fit_transform(np.array(hp_df['LotArea']).reshape(-1,1))  # got values b/w (0,1)\n",
    "mm_scaled"
   ]
  },
  {
   "cell_type": "markdown",
   "id": "c492dfd7",
   "metadata": {},
   "source": [
    "# TRAIN_SPLIT - SKLEARN"
   ]
  },
  {
   "cell_type": "code",
   "execution_count": null,
   "id": "3e8b292e",
   "metadata": {},
   "outputs": [],
   "source": [
    "# for train split as discussed in notes, we have to divide into four parts\n",
    "# seperate the output from the dataset using drop\n",
    "\n",
    "y=hp_df['SalePrice']  # assign saleprice to a variable, so output=y\n",
    "y"
   ]
  },
  {
   "cell_type": "code",
   "execution_count": null,
   "id": "87f51e8a",
   "metadata": {},
   "outputs": [],
   "source": [
    "# now drop saleprice from dataset\n",
    "\n",
    "hp_df=hp_df.drop(columns=['SalePrice'])\n",
    "\n",
    "hp_df.columns # there is no sale price in hp_df now"
   ]
  },
  {
   "cell_type": "code",
   "execution_count": null,
   "id": "bebc5a53",
   "metadata": {},
   "outputs": [],
   "source": [
    "# now start train test split\n",
    "# import sklearn --> machine learning documentation\n",
    "\n",
    "from sklearn.model_selection import train_test_split\n",
    "\n",
    "X_train,X_test,y_train,y_test=train_test_split(hp_df,y,test_size=0.2,random_state=42) \n",
    "\n",
    "# do not change the order of X_train,X_test,y_train,y_test\n",
    "# test_size represents how much you are splitting the data, you gave test_split=0.2, so test data=20% and train data=80%\n",
    "# random_state is given because if we did not give that random_state, the train data takes random values for each iteration\n",
    "# random_state should be assigned some value so that the data you took randomly is fixed for that value cycle."
   ]
  },
  {
   "cell_type": "code",
   "execution_count": null,
   "id": "719a0bf4",
   "metadata": {},
   "outputs": [],
   "source": [
    "X_train  # input train data"
   ]
  },
  {
   "cell_type": "code",
   "execution_count": null,
   "id": "7f0c6cc1",
   "metadata": {},
   "outputs": [],
   "source": [
    "X_test    # input test data"
   ]
  },
  {
   "cell_type": "code",
   "execution_count": null,
   "id": "e383881c",
   "metadata": {},
   "outputs": [],
   "source": [
    "y_train    # output train data"
   ]
  },
  {
   "cell_type": "code",
   "execution_count": null,
   "id": "cb1c41c5",
   "metadata": {},
   "outputs": [],
   "source": [
    "y_test    # output test data"
   ]
  },
  {
   "cell_type": "code",
   "execution_count": null,
   "id": "b3bdf368",
   "metadata": {},
   "outputs": [],
   "source": []
  }
 ],
 "metadata": {
  "kernelspec": {
   "display_name": "Python 3",
   "language": "python",
   "name": "python3"
  },
  "language_info": {
   "codemirror_mode": {
    "name": "ipython",
    "version": 3
   },
   "file_extension": ".py",
   "mimetype": "text/x-python",
   "name": "python",
   "nbconvert_exporter": "python",
   "pygments_lexer": "ipython3",
   "version": "3.8.8"
  }
 },
 "nbformat": 4,
 "nbformat_minor": 5
}
